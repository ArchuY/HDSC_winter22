{
  "nbformat": 4,
  "nbformat_minor": 0,
  "metadata": {
    "colab": {
      "name": "StageC.ipynb",
      "provenance": [],
      "authorship_tag": "ABX9TyO1YhyIHRSTLbPbjkBElUma"
    },
    "kernelspec": {
      "name": "python3",
      "display_name": "Python 3"
    },
    "language_info": {
      "name": "python"
    }
  },
  "cells": [
    {
      "cell_type": "markdown",
      "source": [
        "# HDSC Winter'22 Stage C Tag along Project"
      ],
      "metadata": {
        "id": "T2JN7i5_HA6f"
      }
    },
    {
      "cell_type": "markdown",
      "source": [
        "# Name: Archana Yadav\n",
        "# Hamoye ID: 147eb872a001f000"
      ],
      "metadata": {
        "id": "XkotAKD5GwPE"
      }
    },
    {
      "cell_type": "markdown",
      "source": [
        "##Instructions for Tag-Along Project\n",
        "###Stability of the Grid System\n",
        "\n",
        "####Electrical grids require a balance between electricity supply and demand in order to be stable. Conventional systems achieve this balance through demand-driven electricity production. For future grids with a high share of inflexible (i.e., renewable) energy sources, the concept of demand response is a promising solution. This implies changes in electricity consumption in relation to electricity price changes. In this work, we’ll build a binary classification model to predict if a grid is stable or unstable using the UCI Electrical Grid Stability Simulated dataset.\n",
        "\n",
        "####Dataset: https://archive.ics.uci.edu/ml/datasets/Electrical+Grid+Stability+Simulated+Data+\n",
        "\n",
        "####It has 12 primary predictive features and two dependent variables.\n",
        "\n",
        "####Predictive features:\n",
        "\n",
        "####'tau1' to 'tau4': the reaction time of each network participant, a real value within the range 0.5 to 10 ('tau1' corresponds to the supplier node, 'tau2' to 'tau4' to the consumer nodes);\n",
        "####'p1' to 'p4': nominal power produced (positive) or consumed (negative) by each network participant, a real value within the range -2.0 to -0.5 for consumers ('p2' to 'p4'). As the total power consumed equals the total power generated, p1 (supplier node) = - (p2 + p3 + p4);\n",
        "####'g1' to 'g4': price elasticity coefficient for each network participant, a real value within the range 0.05 to 1.00 ('g1' corresponds to the supplier node, 'g2' to 'g4' to the consumer nodes; 'g' stands for 'gamma');\n",
        "\n",
        "####Dependent variables:\n",
        "\n",
        "####'stab': the maximum real part of the characteristic differential equation root (if positive, the system is linearly unstable; if negative, linearly stable);\n",
        "####'stabf': a categorical (binary) label ('stable' or 'unstable').\n",
        "####Because of the direct relationship between 'stab' and 'stabf' ('stabf' = 'stable' if 'stab' <= 0, 'unstable' otherwise), 'stab' should be dropped and 'stabf' will remain as the sole dependent variable (binary classification).\n",
        "\n",
        "####Split the data into an 80-20 train-test split with a random state of “1”. Use the standard scaler to transform the train set (x_train, y_train) and the test set (x_test). Use scikit learn to train a random forest and extra trees classifier. And use xgboost and lightgbm to train an extreme boosting model and a light gradient boosting model. Use random_state = 1 for training all models and evaluate on the test set. Answer the following questions:"
      ],
      "metadata": {
        "id": "LXqt_x5-tFFa"
      }
    },
    {
      "cell_type": "code",
      "source": [
        "#importing the necessary libraries\n",
        "import pandas as pd\n",
        "import lightgbm as lgbm\n",
        "from xgboost import XGBClassifier\n",
        "from sklearn.preprocessing import StandardScaler\n",
        "from sklearn.model_selection import train_test_split, RandomizedSearchCV \n",
        "from sklearn.ensemble import RandomForestClassifier, ExtraTreesClassifier \n",
        "from sklearn.metrics import recall_score, accuracy_score, confusion_matrix, classification_report"
      ],
      "metadata": {
        "id": "XHnG8NfJJm2i"
      },
      "execution_count": 103,
      "outputs": []
    },
    {
      "cell_type": "code",
      "execution_count": 104,
      "metadata": {
        "colab": {
          "base_uri": "https://localhost:8080/",
          "height": 206
        },
        "id": "TFnfptVaDFGp",
        "outputId": "33ea6ed2-d0c4-40b3-a714-31a92b9a35e4"
      },
      "outputs": [
        {
          "output_type": "execute_result",
          "data": {
            "text/html": [
              "\n",
              "  <div id=\"df-4714d85e-a49e-4110-a2bd-eeb57af2306f\">\n",
              "    <div class=\"colab-df-container\">\n",
              "      <div>\n",
              "<style scoped>\n",
              "    .dataframe tbody tr th:only-of-type {\n",
              "        vertical-align: middle;\n",
              "    }\n",
              "\n",
              "    .dataframe tbody tr th {\n",
              "        vertical-align: top;\n",
              "    }\n",
              "\n",
              "    .dataframe thead th {\n",
              "        text-align: right;\n",
              "    }\n",
              "</style>\n",
              "<table border=\"1\" class=\"dataframe\">\n",
              "  <thead>\n",
              "    <tr style=\"text-align: right;\">\n",
              "      <th></th>\n",
              "      <th>tau1</th>\n",
              "      <th>tau2</th>\n",
              "      <th>tau3</th>\n",
              "      <th>tau4</th>\n",
              "      <th>p1</th>\n",
              "      <th>p2</th>\n",
              "      <th>p3</th>\n",
              "      <th>p4</th>\n",
              "      <th>g1</th>\n",
              "      <th>g2</th>\n",
              "      <th>g3</th>\n",
              "      <th>g4</th>\n",
              "      <th>stab</th>\n",
              "      <th>stabf</th>\n",
              "    </tr>\n",
              "  </thead>\n",
              "  <tbody>\n",
              "    <tr>\n",
              "      <th>0</th>\n",
              "      <td>2.959060</td>\n",
              "      <td>3.079885</td>\n",
              "      <td>8.381025</td>\n",
              "      <td>9.780754</td>\n",
              "      <td>3.763085</td>\n",
              "      <td>-0.782604</td>\n",
              "      <td>-1.257395</td>\n",
              "      <td>-1.723086</td>\n",
              "      <td>0.650456</td>\n",
              "      <td>0.859578</td>\n",
              "      <td>0.887445</td>\n",
              "      <td>0.958034</td>\n",
              "      <td>0.055347</td>\n",
              "      <td>unstable</td>\n",
              "    </tr>\n",
              "    <tr>\n",
              "      <th>1</th>\n",
              "      <td>9.304097</td>\n",
              "      <td>4.902524</td>\n",
              "      <td>3.047541</td>\n",
              "      <td>1.369357</td>\n",
              "      <td>5.067812</td>\n",
              "      <td>-1.940058</td>\n",
              "      <td>-1.872742</td>\n",
              "      <td>-1.255012</td>\n",
              "      <td>0.413441</td>\n",
              "      <td>0.862414</td>\n",
              "      <td>0.562139</td>\n",
              "      <td>0.781760</td>\n",
              "      <td>-0.005957</td>\n",
              "      <td>stable</td>\n",
              "    </tr>\n",
              "    <tr>\n",
              "      <th>2</th>\n",
              "      <td>8.971707</td>\n",
              "      <td>8.848428</td>\n",
              "      <td>3.046479</td>\n",
              "      <td>1.214518</td>\n",
              "      <td>3.405158</td>\n",
              "      <td>-1.207456</td>\n",
              "      <td>-1.277210</td>\n",
              "      <td>-0.920492</td>\n",
              "      <td>0.163041</td>\n",
              "      <td>0.766689</td>\n",
              "      <td>0.839444</td>\n",
              "      <td>0.109853</td>\n",
              "      <td>0.003471</td>\n",
              "      <td>unstable</td>\n",
              "    </tr>\n",
              "    <tr>\n",
              "      <th>3</th>\n",
              "      <td>0.716415</td>\n",
              "      <td>7.669600</td>\n",
              "      <td>4.486641</td>\n",
              "      <td>2.340563</td>\n",
              "      <td>3.963791</td>\n",
              "      <td>-1.027473</td>\n",
              "      <td>-1.938944</td>\n",
              "      <td>-0.997374</td>\n",
              "      <td>0.446209</td>\n",
              "      <td>0.976744</td>\n",
              "      <td>0.929381</td>\n",
              "      <td>0.362718</td>\n",
              "      <td>0.028871</td>\n",
              "      <td>unstable</td>\n",
              "    </tr>\n",
              "    <tr>\n",
              "      <th>4</th>\n",
              "      <td>3.134112</td>\n",
              "      <td>7.608772</td>\n",
              "      <td>4.943759</td>\n",
              "      <td>9.857573</td>\n",
              "      <td>3.525811</td>\n",
              "      <td>-1.125531</td>\n",
              "      <td>-1.845975</td>\n",
              "      <td>-0.554305</td>\n",
              "      <td>0.797110</td>\n",
              "      <td>0.455450</td>\n",
              "      <td>0.656947</td>\n",
              "      <td>0.820923</td>\n",
              "      <td>0.049860</td>\n",
              "      <td>unstable</td>\n",
              "    </tr>\n",
              "  </tbody>\n",
              "</table>\n",
              "</div>\n",
              "      <button class=\"colab-df-convert\" onclick=\"convertToInteractive('df-4714d85e-a49e-4110-a2bd-eeb57af2306f')\"\n",
              "              title=\"Convert this dataframe to an interactive table.\"\n",
              "              style=\"display:none;\">\n",
              "        \n",
              "  <svg xmlns=\"http://www.w3.org/2000/svg\" height=\"24px\"viewBox=\"0 0 24 24\"\n",
              "       width=\"24px\">\n",
              "    <path d=\"M0 0h24v24H0V0z\" fill=\"none\"/>\n",
              "    <path d=\"M18.56 5.44l.94 2.06.94-2.06 2.06-.94-2.06-.94-.94-2.06-.94 2.06-2.06.94zm-11 1L8.5 8.5l.94-2.06 2.06-.94-2.06-.94L8.5 2.5l-.94 2.06-2.06.94zm10 10l.94 2.06.94-2.06 2.06-.94-2.06-.94-.94-2.06-.94 2.06-2.06.94z\"/><path d=\"M17.41 7.96l-1.37-1.37c-.4-.4-.92-.59-1.43-.59-.52 0-1.04.2-1.43.59L10.3 9.45l-7.72 7.72c-.78.78-.78 2.05 0 2.83L4 21.41c.39.39.9.59 1.41.59.51 0 1.02-.2 1.41-.59l7.78-7.78 2.81-2.81c.8-.78.8-2.07 0-2.86zM5.41 20L4 18.59l7.72-7.72 1.47 1.35L5.41 20z\"/>\n",
              "  </svg>\n",
              "      </button>\n",
              "      \n",
              "  <style>\n",
              "    .colab-df-container {\n",
              "      display:flex;\n",
              "      flex-wrap:wrap;\n",
              "      gap: 12px;\n",
              "    }\n",
              "\n",
              "    .colab-df-convert {\n",
              "      background-color: #E8F0FE;\n",
              "      border: none;\n",
              "      border-radius: 50%;\n",
              "      cursor: pointer;\n",
              "      display: none;\n",
              "      fill: #1967D2;\n",
              "      height: 32px;\n",
              "      padding: 0 0 0 0;\n",
              "      width: 32px;\n",
              "    }\n",
              "\n",
              "    .colab-df-convert:hover {\n",
              "      background-color: #E2EBFA;\n",
              "      box-shadow: 0px 1px 2px rgba(60, 64, 67, 0.3), 0px 1px 3px 1px rgba(60, 64, 67, 0.15);\n",
              "      fill: #174EA6;\n",
              "    }\n",
              "\n",
              "    [theme=dark] .colab-df-convert {\n",
              "      background-color: #3B4455;\n",
              "      fill: #D2E3FC;\n",
              "    }\n",
              "\n",
              "    [theme=dark] .colab-df-convert:hover {\n",
              "      background-color: #434B5C;\n",
              "      box-shadow: 0px 1px 3px 1px rgba(0, 0, 0, 0.15);\n",
              "      filter: drop-shadow(0px 1px 2px rgba(0, 0, 0, 0.3));\n",
              "      fill: #FFFFFF;\n",
              "    }\n",
              "  </style>\n",
              "\n",
              "      <script>\n",
              "        const buttonEl =\n",
              "          document.querySelector('#df-4714d85e-a49e-4110-a2bd-eeb57af2306f button.colab-df-convert');\n",
              "        buttonEl.style.display =\n",
              "          google.colab.kernel.accessAllowed ? 'block' : 'none';\n",
              "\n",
              "        async function convertToInteractive(key) {\n",
              "          const element = document.querySelector('#df-4714d85e-a49e-4110-a2bd-eeb57af2306f');\n",
              "          const dataTable =\n",
              "            await google.colab.kernel.invokeFunction('convertToInteractive',\n",
              "                                                     [key], {});\n",
              "          if (!dataTable) return;\n",
              "\n",
              "          const docLinkHtml = 'Like what you see? Visit the ' +\n",
              "            '<a target=\"_blank\" href=https://colab.research.google.com/notebooks/data_table.ipynb>data table notebook</a>'\n",
              "            + ' to learn more about interactive tables.';\n",
              "          element.innerHTML = '';\n",
              "          dataTable['output_type'] = 'display_data';\n",
              "          await google.colab.output.renderOutput(dataTable, element);\n",
              "          const docLink = document.createElement('div');\n",
              "          docLink.innerHTML = docLinkHtml;\n",
              "          element.appendChild(docLink);\n",
              "        }\n",
              "      </script>\n",
              "    </div>\n",
              "  </div>\n",
              "  "
            ],
            "text/plain": [
              "       tau1      tau2      tau3      tau4        p1        p2        p3  \\\n",
              "0  2.959060  3.079885  8.381025  9.780754  3.763085 -0.782604 -1.257395   \n",
              "1  9.304097  4.902524  3.047541  1.369357  5.067812 -1.940058 -1.872742   \n",
              "2  8.971707  8.848428  3.046479  1.214518  3.405158 -1.207456 -1.277210   \n",
              "3  0.716415  7.669600  4.486641  2.340563  3.963791 -1.027473 -1.938944   \n",
              "4  3.134112  7.608772  4.943759  9.857573  3.525811 -1.125531 -1.845975   \n",
              "\n",
              "         p4        g1        g2        g3        g4      stab     stabf  \n",
              "0 -1.723086  0.650456  0.859578  0.887445  0.958034  0.055347  unstable  \n",
              "1 -1.255012  0.413441  0.862414  0.562139  0.781760 -0.005957    stable  \n",
              "2 -0.920492  0.163041  0.766689  0.839444  0.109853  0.003471  unstable  \n",
              "3 -0.997374  0.446209  0.976744  0.929381  0.362718  0.028871  unstable  \n",
              "4 -0.554305  0.797110  0.455450  0.656947  0.820923  0.049860  unstable  "
            ]
          },
          "metadata": {},
          "execution_count": 104
        }
      ],
      "source": [
        "# Fetch the dataset\n",
        "url = 'https://archive.ics.uci.edu/ml/machine-learning-databases/00471/Data_for_UCI_named.csv'\n",
        "Grid_sys = pd.read_csv(url)\n",
        "Grid_sys.head()"
      ]
    },
    {
      "cell_type": "code",
      "source": [
        "# Check for null values\n",
        "Grid_sys.isna().sum()"
      ],
      "metadata": {
        "colab": {
          "base_uri": "https://localhost:8080/"
        },
        "id": "2WFSEbsXDOn_",
        "outputId": "89e7e5ce-ddc2-413d-a2af-bfdf2273caa7"
      },
      "execution_count": 105,
      "outputs": [
        {
          "output_type": "execute_result",
          "data": {
            "text/plain": [
              "tau1     0\n",
              "tau2     0\n",
              "tau3     0\n",
              "tau4     0\n",
              "p1       0\n",
              "p2       0\n",
              "p3       0\n",
              "p4       0\n",
              "g1       0\n",
              "g2       0\n",
              "g3       0\n",
              "g4       0\n",
              "stab     0\n",
              "stabf    0\n",
              "dtype: int64"
            ]
          },
          "metadata": {},
          "execution_count": 105
        }
      ]
    },
    {
      "cell_type": "code",
      "source": [
        "# As per the instruction given to drop the 'stab' columns\n",
        "Grid_sys = Grid_sys.drop(columns = 'stab')"
      ],
      "metadata": {
        "id": "hCEgONzCKdrK"
      },
      "execution_count": 106,
      "outputs": []
    },
    {
      "cell_type": "code",
      "source": [
        "# Splitting the dataset into the Predictors(Features) and Labels\n",
        "\n",
        "X = Grid_sys.drop(['stabf'],axis = 1)\n",
        "y = Grid_sys['stabf']\n",
        "Grid_sys.stabf.value_counts()"
      ],
      "metadata": {
        "colab": {
          "base_uri": "https://localhost:8080/"
        },
        "id": "KrxmeUEbKiNC",
        "outputId": "46391d4a-bf9e-4d66-a4d6-e7d7667fa100"
      },
      "execution_count": 107,
      "outputs": [
        {
          "output_type": "execute_result",
          "data": {
            "text/plain": [
              "unstable    6380\n",
              "stable      3620\n",
              "Name: stabf, dtype: int64"
            ]
          },
          "metadata": {},
          "execution_count": 107
        }
      ]
    },
    {
      "cell_type": "code",
      "source": [
        "# Splitting the data into training and testing sets with 80-20 splitting respectively given in instructions\n",
        "\n",
        "X_train, X_test, y_train, y_test = train_test_split( X, y, test_size=0.2, random_state=1)\n",
        "print('Value count of train label:\\n',y_train.value_counts(),'\\n\\n\\nValue count of test label:\\n',y_test.value_counts() )"
      ],
      "metadata": {
        "colab": {
          "base_uri": "https://localhost:8080/"
        },
        "id": "s5AiW6tLDOqu",
        "outputId": "c4f791cd-4504-4f59-b9a5-ddb3a0ece937"
      },
      "execution_count": 108,
      "outputs": [
        {
          "output_type": "stream",
          "name": "stdout",
          "text": [
            "Value count of train label:\n",
            " unstable    5092\n",
            "stable      2908\n",
            "Name: stabf, dtype: int64 \n",
            "\n",
            "\n",
            "Value count of test label:\n",
            " unstable    1288\n",
            "stable       712\n",
            "Name: stabf, dtype: int64\n"
          ]
        }
      ]
    },
    {
      "cell_type": "code",
      "source": [
        "X_train.head() \n"
      ],
      "metadata": {
        "colab": {
          "base_uri": "https://localhost:8080/",
          "height": 206
        },
        "id": "MYdHflGUDOxE",
        "outputId": "5b154b5b-62c1-4fe9-f7ff-c686d9906f4e"
      },
      "execution_count": 109,
      "outputs": [
        {
          "output_type": "execute_result",
          "data": {
            "text/html": [
              "\n",
              "  <div id=\"df-d4b4b829-e957-4005-9a5d-e16eb02e9640\">\n",
              "    <div class=\"colab-df-container\">\n",
              "      <div>\n",
              "<style scoped>\n",
              "    .dataframe tbody tr th:only-of-type {\n",
              "        vertical-align: middle;\n",
              "    }\n",
              "\n",
              "    .dataframe tbody tr th {\n",
              "        vertical-align: top;\n",
              "    }\n",
              "\n",
              "    .dataframe thead th {\n",
              "        text-align: right;\n",
              "    }\n",
              "</style>\n",
              "<table border=\"1\" class=\"dataframe\">\n",
              "  <thead>\n",
              "    <tr style=\"text-align: right;\">\n",
              "      <th></th>\n",
              "      <th>tau1</th>\n",
              "      <th>tau2</th>\n",
              "      <th>tau3</th>\n",
              "      <th>tau4</th>\n",
              "      <th>p1</th>\n",
              "      <th>p2</th>\n",
              "      <th>p3</th>\n",
              "      <th>p4</th>\n",
              "      <th>g1</th>\n",
              "      <th>g2</th>\n",
              "      <th>g3</th>\n",
              "      <th>g4</th>\n",
              "    </tr>\n",
              "  </thead>\n",
              "  <tbody>\n",
              "    <tr>\n",
              "      <th>2694</th>\n",
              "      <td>6.255995</td>\n",
              "      <td>2.542401</td>\n",
              "      <td>7.024714</td>\n",
              "      <td>9.476518</td>\n",
              "      <td>3.529888</td>\n",
              "      <td>-1.224881</td>\n",
              "      <td>-0.688228</td>\n",
              "      <td>-1.616780</td>\n",
              "      <td>0.568221</td>\n",
              "      <td>0.618403</td>\n",
              "      <td>0.685739</td>\n",
              "      <td>0.660088</td>\n",
              "    </tr>\n",
              "    <tr>\n",
              "      <th>5140</th>\n",
              "      <td>5.070581</td>\n",
              "      <td>5.490253</td>\n",
              "      <td>8.075688</td>\n",
              "      <td>0.761075</td>\n",
              "      <td>4.220888</td>\n",
              "      <td>-1.280596</td>\n",
              "      <td>-1.902185</td>\n",
              "      <td>-1.038107</td>\n",
              "      <td>0.443515</td>\n",
              "      <td>0.097244</td>\n",
              "      <td>0.916955</td>\n",
              "      <td>0.129254</td>\n",
              "    </tr>\n",
              "    <tr>\n",
              "      <th>2568</th>\n",
              "      <td>1.220072</td>\n",
              "      <td>8.804028</td>\n",
              "      <td>3.874283</td>\n",
              "      <td>8.433949</td>\n",
              "      <td>3.614027</td>\n",
              "      <td>-1.039236</td>\n",
              "      <td>-0.953566</td>\n",
              "      <td>-1.621224</td>\n",
              "      <td>0.908353</td>\n",
              "      <td>0.923594</td>\n",
              "      <td>0.238881</td>\n",
              "      <td>0.660156</td>\n",
              "    </tr>\n",
              "    <tr>\n",
              "      <th>3671</th>\n",
              "      <td>7.498402</td>\n",
              "      <td>6.697603</td>\n",
              "      <td>8.798626</td>\n",
              "      <td>2.126236</td>\n",
              "      <td>3.134585</td>\n",
              "      <td>-1.581906</td>\n",
              "      <td>-0.589386</td>\n",
              "      <td>-0.963293</td>\n",
              "      <td>0.260826</td>\n",
              "      <td>0.899003</td>\n",
              "      <td>0.964752</td>\n",
              "      <td>0.600598</td>\n",
              "    </tr>\n",
              "    <tr>\n",
              "      <th>7427</th>\n",
              "      <td>7.074006</td>\n",
              "      <td>1.337511</td>\n",
              "      <td>6.100756</td>\n",
              "      <td>7.759156</td>\n",
              "      <td>2.526922</td>\n",
              "      <td>-0.922540</td>\n",
              "      <td>-0.632600</td>\n",
              "      <td>-0.971782</td>\n",
              "      <td>0.984580</td>\n",
              "      <td>0.716082</td>\n",
              "      <td>0.836928</td>\n",
              "      <td>0.165162</td>\n",
              "    </tr>\n",
              "  </tbody>\n",
              "</table>\n",
              "</div>\n",
              "      <button class=\"colab-df-convert\" onclick=\"convertToInteractive('df-d4b4b829-e957-4005-9a5d-e16eb02e9640')\"\n",
              "              title=\"Convert this dataframe to an interactive table.\"\n",
              "              style=\"display:none;\">\n",
              "        \n",
              "  <svg xmlns=\"http://www.w3.org/2000/svg\" height=\"24px\"viewBox=\"0 0 24 24\"\n",
              "       width=\"24px\">\n",
              "    <path d=\"M0 0h24v24H0V0z\" fill=\"none\"/>\n",
              "    <path d=\"M18.56 5.44l.94 2.06.94-2.06 2.06-.94-2.06-.94-.94-2.06-.94 2.06-2.06.94zm-11 1L8.5 8.5l.94-2.06 2.06-.94-2.06-.94L8.5 2.5l-.94 2.06-2.06.94zm10 10l.94 2.06.94-2.06 2.06-.94-2.06-.94-.94-2.06-.94 2.06-2.06.94z\"/><path d=\"M17.41 7.96l-1.37-1.37c-.4-.4-.92-.59-1.43-.59-.52 0-1.04.2-1.43.59L10.3 9.45l-7.72 7.72c-.78.78-.78 2.05 0 2.83L4 21.41c.39.39.9.59 1.41.59.51 0 1.02-.2 1.41-.59l7.78-7.78 2.81-2.81c.8-.78.8-2.07 0-2.86zM5.41 20L4 18.59l7.72-7.72 1.47 1.35L5.41 20z\"/>\n",
              "  </svg>\n",
              "      </button>\n",
              "      \n",
              "  <style>\n",
              "    .colab-df-container {\n",
              "      display:flex;\n",
              "      flex-wrap:wrap;\n",
              "      gap: 12px;\n",
              "    }\n",
              "\n",
              "    .colab-df-convert {\n",
              "      background-color: #E8F0FE;\n",
              "      border: none;\n",
              "      border-radius: 50%;\n",
              "      cursor: pointer;\n",
              "      display: none;\n",
              "      fill: #1967D2;\n",
              "      height: 32px;\n",
              "      padding: 0 0 0 0;\n",
              "      width: 32px;\n",
              "    }\n",
              "\n",
              "    .colab-df-convert:hover {\n",
              "      background-color: #E2EBFA;\n",
              "      box-shadow: 0px 1px 2px rgba(60, 64, 67, 0.3), 0px 1px 3px 1px rgba(60, 64, 67, 0.15);\n",
              "      fill: #174EA6;\n",
              "    }\n",
              "\n",
              "    [theme=dark] .colab-df-convert {\n",
              "      background-color: #3B4455;\n",
              "      fill: #D2E3FC;\n",
              "    }\n",
              "\n",
              "    [theme=dark] .colab-df-convert:hover {\n",
              "      background-color: #434B5C;\n",
              "      box-shadow: 0px 1px 3px 1px rgba(0, 0, 0, 0.15);\n",
              "      filter: drop-shadow(0px 1px 2px rgba(0, 0, 0, 0.3));\n",
              "      fill: #FFFFFF;\n",
              "    }\n",
              "  </style>\n",
              "\n",
              "      <script>\n",
              "        const buttonEl =\n",
              "          document.querySelector('#df-d4b4b829-e957-4005-9a5d-e16eb02e9640 button.colab-df-convert');\n",
              "        buttonEl.style.display =\n",
              "          google.colab.kernel.accessAllowed ? 'block' : 'none';\n",
              "\n",
              "        async function convertToInteractive(key) {\n",
              "          const element = document.querySelector('#df-d4b4b829-e957-4005-9a5d-e16eb02e9640');\n",
              "          const dataTable =\n",
              "            await google.colab.kernel.invokeFunction('convertToInteractive',\n",
              "                                                     [key], {});\n",
              "          if (!dataTable) return;\n",
              "\n",
              "          const docLinkHtml = 'Like what you see? Visit the ' +\n",
              "            '<a target=\"_blank\" href=https://colab.research.google.com/notebooks/data_table.ipynb>data table notebook</a>'\n",
              "            + ' to learn more about interactive tables.';\n",
              "          element.innerHTML = '';\n",
              "          dataTable['output_type'] = 'display_data';\n",
              "          await google.colab.output.renderOutput(dataTable, element);\n",
              "          const docLink = document.createElement('div');\n",
              "          docLink.innerHTML = docLinkHtml;\n",
              "          element.appendChild(docLink);\n",
              "        }\n",
              "      </script>\n",
              "    </div>\n",
              "  </div>\n",
              "  "
            ],
            "text/plain": [
              "          tau1      tau2      tau3      tau4        p1        p2        p3  \\\n",
              "2694  6.255995  2.542401  7.024714  9.476518  3.529888 -1.224881 -0.688228   \n",
              "5140  5.070581  5.490253  8.075688  0.761075  4.220888 -1.280596 -1.902185   \n",
              "2568  1.220072  8.804028  3.874283  8.433949  3.614027 -1.039236 -0.953566   \n",
              "3671  7.498402  6.697603  8.798626  2.126236  3.134585 -1.581906 -0.589386   \n",
              "7427  7.074006  1.337511  6.100756  7.759156  2.526922 -0.922540 -0.632600   \n",
              "\n",
              "            p4        g1        g2        g3        g4  \n",
              "2694 -1.616780  0.568221  0.618403  0.685739  0.660088  \n",
              "5140 -1.038107  0.443515  0.097244  0.916955  0.129254  \n",
              "2568 -1.621224  0.908353  0.923594  0.238881  0.660156  \n",
              "3671 -0.963293  0.260826  0.899003  0.964752  0.600598  \n",
              "7427 -0.971782  0.984580  0.716082  0.836928  0.165162  "
            ]
          },
          "metadata": {},
          "execution_count": 109
        }
      ]
    },
    {
      "cell_type": "code",
      "source": [
        "X_test.head() \n"
      ],
      "metadata": {
        "colab": {
          "base_uri": "https://localhost:8080/",
          "height": 206
        },
        "id": "_-D-Hd1gDO5Q",
        "outputId": "c18c8dc4-70d7-4f91-8c3d-ede21c31a5ff"
      },
      "execution_count": 110,
      "outputs": [
        {
          "output_type": "execute_result",
          "data": {
            "text/html": [
              "\n",
              "  <div id=\"df-6419d761-ba12-4a6c-a4b0-60594d9ceee2\">\n",
              "    <div class=\"colab-df-container\">\n",
              "      <div>\n",
              "<style scoped>\n",
              "    .dataframe tbody tr th:only-of-type {\n",
              "        vertical-align: middle;\n",
              "    }\n",
              "\n",
              "    .dataframe tbody tr th {\n",
              "        vertical-align: top;\n",
              "    }\n",
              "\n",
              "    .dataframe thead th {\n",
              "        text-align: right;\n",
              "    }\n",
              "</style>\n",
              "<table border=\"1\" class=\"dataframe\">\n",
              "  <thead>\n",
              "    <tr style=\"text-align: right;\">\n",
              "      <th></th>\n",
              "      <th>tau1</th>\n",
              "      <th>tau2</th>\n",
              "      <th>tau3</th>\n",
              "      <th>tau4</th>\n",
              "      <th>p1</th>\n",
              "      <th>p2</th>\n",
              "      <th>p3</th>\n",
              "      <th>p4</th>\n",
              "      <th>g1</th>\n",
              "      <th>g2</th>\n",
              "      <th>g3</th>\n",
              "      <th>g4</th>\n",
              "    </tr>\n",
              "  </thead>\n",
              "  <tbody>\n",
              "    <tr>\n",
              "      <th>9953</th>\n",
              "      <td>6.877876</td>\n",
              "      <td>4.113820</td>\n",
              "      <td>9.356768</td>\n",
              "      <td>8.299753</td>\n",
              "      <td>4.056779</td>\n",
              "      <td>-1.897470</td>\n",
              "      <td>-1.590581</td>\n",
              "      <td>-0.568728</td>\n",
              "      <td>0.276567</td>\n",
              "      <td>0.845536</td>\n",
              "      <td>0.112440</td>\n",
              "      <td>0.822562</td>\n",
              "    </tr>\n",
              "    <tr>\n",
              "      <th>3850</th>\n",
              "      <td>5.802841</td>\n",
              "      <td>6.271371</td>\n",
              "      <td>4.731540</td>\n",
              "      <td>3.819867</td>\n",
              "      <td>3.579569</td>\n",
              "      <td>-1.709480</td>\n",
              "      <td>-1.067511</td>\n",
              "      <td>-0.802579</td>\n",
              "      <td>0.077527</td>\n",
              "      <td>0.416478</td>\n",
              "      <td>0.912846</td>\n",
              "      <td>0.861306</td>\n",
              "    </tr>\n",
              "    <tr>\n",
              "      <th>4962</th>\n",
              "      <td>2.286998</td>\n",
              "      <td>4.385142</td>\n",
              "      <td>2.830232</td>\n",
              "      <td>5.293880</td>\n",
              "      <td>3.035814</td>\n",
              "      <td>-1.202764</td>\n",
              "      <td>-0.902011</td>\n",
              "      <td>-0.931039</td>\n",
              "      <td>0.924216</td>\n",
              "      <td>0.130186</td>\n",
              "      <td>0.703887</td>\n",
              "      <td>0.063811</td>\n",
              "    </tr>\n",
              "    <tr>\n",
              "      <th>3886</th>\n",
              "      <td>5.019920</td>\n",
              "      <td>2.209962</td>\n",
              "      <td>6.266080</td>\n",
              "      <td>0.578901</td>\n",
              "      <td>4.322584</td>\n",
              "      <td>-1.960207</td>\n",
              "      <td>-1.074561</td>\n",
              "      <td>-1.287815</td>\n",
              "      <td>0.546910</td>\n",
              "      <td>0.065992</td>\n",
              "      <td>0.427349</td>\n",
              "      <td>0.814648</td>\n",
              "    </tr>\n",
              "    <tr>\n",
              "      <th>5437</th>\n",
              "      <td>7.646145</td>\n",
              "      <td>9.187896</td>\n",
              "      <td>5.484219</td>\n",
              "      <td>9.934313</td>\n",
              "      <td>3.634226</td>\n",
              "      <td>-1.254541</td>\n",
              "      <td>-1.335366</td>\n",
              "      <td>-1.044319</td>\n",
              "      <td>0.561528</td>\n",
              "      <td>0.121611</td>\n",
              "      <td>0.787318</td>\n",
              "      <td>0.300314</td>\n",
              "    </tr>\n",
              "  </tbody>\n",
              "</table>\n",
              "</div>\n",
              "      <button class=\"colab-df-convert\" onclick=\"convertToInteractive('df-6419d761-ba12-4a6c-a4b0-60594d9ceee2')\"\n",
              "              title=\"Convert this dataframe to an interactive table.\"\n",
              "              style=\"display:none;\">\n",
              "        \n",
              "  <svg xmlns=\"http://www.w3.org/2000/svg\" height=\"24px\"viewBox=\"0 0 24 24\"\n",
              "       width=\"24px\">\n",
              "    <path d=\"M0 0h24v24H0V0z\" fill=\"none\"/>\n",
              "    <path d=\"M18.56 5.44l.94 2.06.94-2.06 2.06-.94-2.06-.94-.94-2.06-.94 2.06-2.06.94zm-11 1L8.5 8.5l.94-2.06 2.06-.94-2.06-.94L8.5 2.5l-.94 2.06-2.06.94zm10 10l.94 2.06.94-2.06 2.06-.94-2.06-.94-.94-2.06-.94 2.06-2.06.94z\"/><path d=\"M17.41 7.96l-1.37-1.37c-.4-.4-.92-.59-1.43-.59-.52 0-1.04.2-1.43.59L10.3 9.45l-7.72 7.72c-.78.78-.78 2.05 0 2.83L4 21.41c.39.39.9.59 1.41.59.51 0 1.02-.2 1.41-.59l7.78-7.78 2.81-2.81c.8-.78.8-2.07 0-2.86zM5.41 20L4 18.59l7.72-7.72 1.47 1.35L5.41 20z\"/>\n",
              "  </svg>\n",
              "      </button>\n",
              "      \n",
              "  <style>\n",
              "    .colab-df-container {\n",
              "      display:flex;\n",
              "      flex-wrap:wrap;\n",
              "      gap: 12px;\n",
              "    }\n",
              "\n",
              "    .colab-df-convert {\n",
              "      background-color: #E8F0FE;\n",
              "      border: none;\n",
              "      border-radius: 50%;\n",
              "      cursor: pointer;\n",
              "      display: none;\n",
              "      fill: #1967D2;\n",
              "      height: 32px;\n",
              "      padding: 0 0 0 0;\n",
              "      width: 32px;\n",
              "    }\n",
              "\n",
              "    .colab-df-convert:hover {\n",
              "      background-color: #E2EBFA;\n",
              "      box-shadow: 0px 1px 2px rgba(60, 64, 67, 0.3), 0px 1px 3px 1px rgba(60, 64, 67, 0.15);\n",
              "      fill: #174EA6;\n",
              "    }\n",
              "\n",
              "    [theme=dark] .colab-df-convert {\n",
              "      background-color: #3B4455;\n",
              "      fill: #D2E3FC;\n",
              "    }\n",
              "\n",
              "    [theme=dark] .colab-df-convert:hover {\n",
              "      background-color: #434B5C;\n",
              "      box-shadow: 0px 1px 3px 1px rgba(0, 0, 0, 0.15);\n",
              "      filter: drop-shadow(0px 1px 2px rgba(0, 0, 0, 0.3));\n",
              "      fill: #FFFFFF;\n",
              "    }\n",
              "  </style>\n",
              "\n",
              "      <script>\n",
              "        const buttonEl =\n",
              "          document.querySelector('#df-6419d761-ba12-4a6c-a4b0-60594d9ceee2 button.colab-df-convert');\n",
              "        buttonEl.style.display =\n",
              "          google.colab.kernel.accessAllowed ? 'block' : 'none';\n",
              "\n",
              "        async function convertToInteractive(key) {\n",
              "          const element = document.querySelector('#df-6419d761-ba12-4a6c-a4b0-60594d9ceee2');\n",
              "          const dataTable =\n",
              "            await google.colab.kernel.invokeFunction('convertToInteractive',\n",
              "                                                     [key], {});\n",
              "          if (!dataTable) return;\n",
              "\n",
              "          const docLinkHtml = 'Like what you see? Visit the ' +\n",
              "            '<a target=\"_blank\" href=https://colab.research.google.com/notebooks/data_table.ipynb>data table notebook</a>'\n",
              "            + ' to learn more about interactive tables.';\n",
              "          element.innerHTML = '';\n",
              "          dataTable['output_type'] = 'display_data';\n",
              "          await google.colab.output.renderOutput(dataTable, element);\n",
              "          const docLink = document.createElement('div');\n",
              "          docLink.innerHTML = docLinkHtml;\n",
              "          element.appendChild(docLink);\n",
              "        }\n",
              "      </script>\n",
              "    </div>\n",
              "  </div>\n",
              "  "
            ],
            "text/plain": [
              "          tau1      tau2      tau3      tau4        p1        p2        p3  \\\n",
              "9953  6.877876  4.113820  9.356768  8.299753  4.056779 -1.897470 -1.590581   \n",
              "3850  5.802841  6.271371  4.731540  3.819867  3.579569 -1.709480 -1.067511   \n",
              "4962  2.286998  4.385142  2.830232  5.293880  3.035814 -1.202764 -0.902011   \n",
              "3886  5.019920  2.209962  6.266080  0.578901  4.322584 -1.960207 -1.074561   \n",
              "5437  7.646145  9.187896  5.484219  9.934313  3.634226 -1.254541 -1.335366   \n",
              "\n",
              "            p4        g1        g2        g3        g4  \n",
              "9953 -0.568728  0.276567  0.845536  0.112440  0.822562  \n",
              "3850 -0.802579  0.077527  0.416478  0.912846  0.861306  \n",
              "4962 -0.931039  0.924216  0.130186  0.703887  0.063811  \n",
              "3886 -1.287815  0.546910  0.065992  0.427349  0.814648  \n",
              "5437 -1.044319  0.561528  0.121611  0.787318  0.300314  "
            ]
          },
          "metadata": {},
          "execution_count": 110
        }
      ]
    },
    {
      "cell_type": "code",
      "source": [
        "# As per the instruction, here use the standard scaler to transform the train set (x_train, y_train) and the test set (x_test).\n",
        "\n",
        "scaler = StandardScaler()\n",
        "\n",
        "\n",
        "# Transforming the X_train (feature)data\n",
        "transformed_X_train = scaler.fit_transform(X_train)\n",
        "transformed_X_train = pd.DataFrame(transformed_X_train, columns = X_train.columns)\n",
        "transformed_X_train.head()"
      ],
      "metadata": {
        "colab": {
          "base_uri": "https://localhost:8080/",
          "height": 206
        },
        "id": "hdzlXfapD5JP",
        "outputId": "eb78d862-109f-4b3a-b303-bd5f31c5a438"
      },
      "execution_count": 111,
      "outputs": [
        {
          "output_type": "execute_result",
          "data": {
            "text/html": [
              "\n",
              "  <div id=\"df-c2c35731-a235-4cb1-ad16-6eb1269f3a59\">\n",
              "    <div class=\"colab-df-container\">\n",
              "      <div>\n",
              "<style scoped>\n",
              "    .dataframe tbody tr th:only-of-type {\n",
              "        vertical-align: middle;\n",
              "    }\n",
              "\n",
              "    .dataframe tbody tr th {\n",
              "        vertical-align: top;\n",
              "    }\n",
              "\n",
              "    .dataframe thead th {\n",
              "        text-align: right;\n",
              "    }\n",
              "</style>\n",
              "<table border=\"1\" class=\"dataframe\">\n",
              "  <thead>\n",
              "    <tr style=\"text-align: right;\">\n",
              "      <th></th>\n",
              "      <th>tau1</th>\n",
              "      <th>tau2</th>\n",
              "      <th>tau3</th>\n",
              "      <th>tau4</th>\n",
              "      <th>p1</th>\n",
              "      <th>p2</th>\n",
              "      <th>p3</th>\n",
              "      <th>p4</th>\n",
              "      <th>g1</th>\n",
              "      <th>g2</th>\n",
              "      <th>g3</th>\n",
              "      <th>g4</th>\n",
              "    </tr>\n",
              "  </thead>\n",
              "  <tbody>\n",
              "    <tr>\n",
              "      <th>0</th>\n",
              "      <td>0.367327</td>\n",
              "      <td>-0.986042</td>\n",
              "      <td>0.650447</td>\n",
              "      <td>1.547527</td>\n",
              "      <td>-0.291490</td>\n",
              "      <td>0.061535</td>\n",
              "      <td>1.293862</td>\n",
              "      <td>-0.845074</td>\n",
              "      <td>0.160918</td>\n",
              "      <td>0.339859</td>\n",
              "      <td>0.585568</td>\n",
              "      <td>0.492239</td>\n",
              "    </tr>\n",
              "    <tr>\n",
              "      <th>1</th>\n",
              "      <td>-0.064659</td>\n",
              "      <td>0.089437</td>\n",
              "      <td>1.035079</td>\n",
              "      <td>-1.641494</td>\n",
              "      <td>0.619865</td>\n",
              "      <td>-0.067235</td>\n",
              "      <td>-1.502925</td>\n",
              "      <td>0.486613</td>\n",
              "      <td>-0.293143</td>\n",
              "      <td>-1.558488</td>\n",
              "      <td>1.429649</td>\n",
              "      <td>-1.443521</td>\n",
              "    </tr>\n",
              "    <tr>\n",
              "      <th>2</th>\n",
              "      <td>-1.467850</td>\n",
              "      <td>1.298418</td>\n",
              "      <td>-0.502536</td>\n",
              "      <td>1.166046</td>\n",
              "      <td>-0.180521</td>\n",
              "      <td>0.490603</td>\n",
              "      <td>0.682560</td>\n",
              "      <td>-0.855302</td>\n",
              "      <td>1.399350</td>\n",
              "      <td>1.451534</td>\n",
              "      <td>-1.045743</td>\n",
              "      <td>0.492489</td>\n",
              "    </tr>\n",
              "    <tr>\n",
              "      <th>3</th>\n",
              "      <td>0.820081</td>\n",
              "      <td>0.529920</td>\n",
              "      <td>1.299657</td>\n",
              "      <td>-1.141975</td>\n",
              "      <td>-0.812854</td>\n",
              "      <td>-0.763632</td>\n",
              "      <td>1.521579</td>\n",
              "      <td>0.658780</td>\n",
              "      <td>-0.958319</td>\n",
              "      <td>1.361958</td>\n",
              "      <td>1.604140</td>\n",
              "      <td>0.275303</td>\n",
              "    </tr>\n",
              "    <tr>\n",
              "      <th>4</th>\n",
              "      <td>0.665424</td>\n",
              "      <td>-1.425627</td>\n",
              "      <td>0.312300</td>\n",
              "      <td>0.919137</td>\n",
              "      <td>-1.614296</td>\n",
              "      <td>0.760315</td>\n",
              "      <td>1.422019</td>\n",
              "      <td>0.639243</td>\n",
              "      <td>1.676895</td>\n",
              "      <td>0.695660</td>\n",
              "      <td>1.137504</td>\n",
              "      <td>-1.312575</td>\n",
              "    </tr>\n",
              "  </tbody>\n",
              "</table>\n",
              "</div>\n",
              "      <button class=\"colab-df-convert\" onclick=\"convertToInteractive('df-c2c35731-a235-4cb1-ad16-6eb1269f3a59')\"\n",
              "              title=\"Convert this dataframe to an interactive table.\"\n",
              "              style=\"display:none;\">\n",
              "        \n",
              "  <svg xmlns=\"http://www.w3.org/2000/svg\" height=\"24px\"viewBox=\"0 0 24 24\"\n",
              "       width=\"24px\">\n",
              "    <path d=\"M0 0h24v24H0V0z\" fill=\"none\"/>\n",
              "    <path d=\"M18.56 5.44l.94 2.06.94-2.06 2.06-.94-2.06-.94-.94-2.06-.94 2.06-2.06.94zm-11 1L8.5 8.5l.94-2.06 2.06-.94-2.06-.94L8.5 2.5l-.94 2.06-2.06.94zm10 10l.94 2.06.94-2.06 2.06-.94-2.06-.94-.94-2.06-.94 2.06-2.06.94z\"/><path d=\"M17.41 7.96l-1.37-1.37c-.4-.4-.92-.59-1.43-.59-.52 0-1.04.2-1.43.59L10.3 9.45l-7.72 7.72c-.78.78-.78 2.05 0 2.83L4 21.41c.39.39.9.59 1.41.59.51 0 1.02-.2 1.41-.59l7.78-7.78 2.81-2.81c.8-.78.8-2.07 0-2.86zM5.41 20L4 18.59l7.72-7.72 1.47 1.35L5.41 20z\"/>\n",
              "  </svg>\n",
              "      </button>\n",
              "      \n",
              "  <style>\n",
              "    .colab-df-container {\n",
              "      display:flex;\n",
              "      flex-wrap:wrap;\n",
              "      gap: 12px;\n",
              "    }\n",
              "\n",
              "    .colab-df-convert {\n",
              "      background-color: #E8F0FE;\n",
              "      border: none;\n",
              "      border-radius: 50%;\n",
              "      cursor: pointer;\n",
              "      display: none;\n",
              "      fill: #1967D2;\n",
              "      height: 32px;\n",
              "      padding: 0 0 0 0;\n",
              "      width: 32px;\n",
              "    }\n",
              "\n",
              "    .colab-df-convert:hover {\n",
              "      background-color: #E2EBFA;\n",
              "      box-shadow: 0px 1px 2px rgba(60, 64, 67, 0.3), 0px 1px 3px 1px rgba(60, 64, 67, 0.15);\n",
              "      fill: #174EA6;\n",
              "    }\n",
              "\n",
              "    [theme=dark] .colab-df-convert {\n",
              "      background-color: #3B4455;\n",
              "      fill: #D2E3FC;\n",
              "    }\n",
              "\n",
              "    [theme=dark] .colab-df-convert:hover {\n",
              "      background-color: #434B5C;\n",
              "      box-shadow: 0px 1px 3px 1px rgba(0, 0, 0, 0.15);\n",
              "      filter: drop-shadow(0px 1px 2px rgba(0, 0, 0, 0.3));\n",
              "      fill: #FFFFFF;\n",
              "    }\n",
              "  </style>\n",
              "\n",
              "      <script>\n",
              "        const buttonEl =\n",
              "          document.querySelector('#df-c2c35731-a235-4cb1-ad16-6eb1269f3a59 button.colab-df-convert');\n",
              "        buttonEl.style.display =\n",
              "          google.colab.kernel.accessAllowed ? 'block' : 'none';\n",
              "\n",
              "        async function convertToInteractive(key) {\n",
              "          const element = document.querySelector('#df-c2c35731-a235-4cb1-ad16-6eb1269f3a59');\n",
              "          const dataTable =\n",
              "            await google.colab.kernel.invokeFunction('convertToInteractive',\n",
              "                                                     [key], {});\n",
              "          if (!dataTable) return;\n",
              "\n",
              "          const docLinkHtml = 'Like what you see? Visit the ' +\n",
              "            '<a target=\"_blank\" href=https://colab.research.google.com/notebooks/data_table.ipynb>data table notebook</a>'\n",
              "            + ' to learn more about interactive tables.';\n",
              "          element.innerHTML = '';\n",
              "          dataTable['output_type'] = 'display_data';\n",
              "          await google.colab.output.renderOutput(dataTable, element);\n",
              "          const docLink = document.createElement('div');\n",
              "          docLink.innerHTML = docLinkHtml;\n",
              "          element.appendChild(docLink);\n",
              "        }\n",
              "      </script>\n",
              "    </div>\n",
              "  </div>\n",
              "  "
            ],
            "text/plain": [
              "       tau1      tau2      tau3      tau4        p1        p2        p3  \\\n",
              "0  0.367327 -0.986042  0.650447  1.547527 -0.291490  0.061535  1.293862   \n",
              "1 -0.064659  0.089437  1.035079 -1.641494  0.619865 -0.067235 -1.502925   \n",
              "2 -1.467850  1.298418 -0.502536  1.166046 -0.180521  0.490603  0.682560   \n",
              "3  0.820081  0.529920  1.299657 -1.141975 -0.812854 -0.763632  1.521579   \n",
              "4  0.665424 -1.425627  0.312300  0.919137 -1.614296  0.760315  1.422019   \n",
              "\n",
              "         p4        g1        g2        g3        g4  \n",
              "0 -0.845074  0.160918  0.339859  0.585568  0.492239  \n",
              "1  0.486613 -0.293143 -1.558488  1.429649 -1.443521  \n",
              "2 -0.855302  1.399350  1.451534 -1.045743  0.492489  \n",
              "3  0.658780 -0.958319  1.361958  1.604140  0.275303  \n",
              "4  0.639243  1.676895  0.695660  1.137504 -1.312575  "
            ]
          },
          "metadata": {},
          "execution_count": 111
        }
      ]
    },
    {
      "cell_type": "code",
      "source": [
        "# Transforming the X_test (feature)data\n",
        "transformed_X_test = scaler.transform(X_test)\n",
        "transformed_X_test = pd.DataFrame(transformed_X_test, columns = X_test.columns)\n",
        "transformed_X_test.head() "
      ],
      "metadata": {
        "colab": {
          "base_uri": "https://localhost:8080/",
          "height": 206
        },
        "id": "-NpB2iwoD5MC",
        "outputId": "99f0d709-c1e8-41b0-b512-27f838056065"
      },
      "execution_count": 112,
      "outputs": [
        {
          "output_type": "execute_result",
          "data": {
            "text/html": [
              "\n",
              "  <div id=\"df-c3b6d05e-a698-4848-a346-59d096474440\">\n",
              "    <div class=\"colab-df-container\">\n",
              "      <div>\n",
              "<style scoped>\n",
              "    .dataframe tbody tr th:only-of-type {\n",
              "        vertical-align: middle;\n",
              "    }\n",
              "\n",
              "    .dataframe tbody tr th {\n",
              "        vertical-align: top;\n",
              "    }\n",
              "\n",
              "    .dataframe thead th {\n",
              "        text-align: right;\n",
              "    }\n",
              "</style>\n",
              "<table border=\"1\" class=\"dataframe\">\n",
              "  <thead>\n",
              "    <tr style=\"text-align: right;\">\n",
              "      <th></th>\n",
              "      <th>tau1</th>\n",
              "      <th>tau2</th>\n",
              "      <th>tau3</th>\n",
              "      <th>tau4</th>\n",
              "      <th>p1</th>\n",
              "      <th>p2</th>\n",
              "      <th>p3</th>\n",
              "      <th>p4</th>\n",
              "      <th>g1</th>\n",
              "      <th>g2</th>\n",
              "      <th>g3</th>\n",
              "      <th>g4</th>\n",
              "    </tr>\n",
              "  </thead>\n",
              "  <tbody>\n",
              "    <tr>\n",
              "      <th>0</th>\n",
              "      <td>0.593951</td>\n",
              "      <td>-0.412733</td>\n",
              "      <td>1.503924</td>\n",
              "      <td>1.116943</td>\n",
              "      <td>0.403423</td>\n",
              "      <td>-1.492971</td>\n",
              "      <td>-0.785033</td>\n",
              "      <td>1.566781</td>\n",
              "      <td>-0.901007</td>\n",
              "      <td>1.167203</td>\n",
              "      <td>-1.507330</td>\n",
              "      <td>1.084726</td>\n",
              "    </tr>\n",
              "    <tr>\n",
              "      <th>1</th>\n",
              "      <td>0.202190</td>\n",
              "      <td>0.374416</td>\n",
              "      <td>-0.188800</td>\n",
              "      <td>-0.522268</td>\n",
              "      <td>-0.225967</td>\n",
              "      <td>-1.058483</td>\n",
              "      <td>0.420047</td>\n",
              "      <td>1.028627</td>\n",
              "      <td>-1.625721</td>\n",
              "      <td>-0.395660</td>\n",
              "      <td>1.414651</td>\n",
              "      <td>1.226011</td>\n",
              "    </tr>\n",
              "    <tr>\n",
              "      <th>2</th>\n",
              "      <td>-1.079044</td>\n",
              "      <td>-0.313745</td>\n",
              "      <td>-0.884634</td>\n",
              "      <td>0.017080</td>\n",
              "      <td>-0.943122</td>\n",
              "      <td>0.112653</td>\n",
              "      <td>0.801335</td>\n",
              "      <td>0.733004</td>\n",
              "      <td>1.457108</td>\n",
              "      <td>-1.438495</td>\n",
              "      <td>0.651821</td>\n",
              "      <td>-1.682168</td>\n",
              "    </tr>\n",
              "    <tr>\n",
              "      <th>3</th>\n",
              "      <td>-0.083120</td>\n",
              "      <td>-1.107327</td>\n",
              "      <td>0.372805</td>\n",
              "      <td>-1.708152</td>\n",
              "      <td>0.753990</td>\n",
              "      <td>-1.637972</td>\n",
              "      <td>0.403805</td>\n",
              "      <td>-0.088036</td>\n",
              "      <td>0.083322</td>\n",
              "      <td>-1.672322</td>\n",
              "      <td>-0.357714</td>\n",
              "      <td>1.055865</td>\n",
              "    </tr>\n",
              "    <tr>\n",
              "      <th>4</th>\n",
              "      <td>0.873921</td>\n",
              "      <td>1.438466</td>\n",
              "      <td>0.086662</td>\n",
              "      <td>1.715037</td>\n",
              "      <td>-0.153880</td>\n",
              "      <td>-0.007015</td>\n",
              "      <td>-0.197053</td>\n",
              "      <td>0.472315</td>\n",
              "      <td>0.136549</td>\n",
              "      <td>-1.469731</td>\n",
              "      <td>0.956396</td>\n",
              "      <td>-0.819727</td>\n",
              "    </tr>\n",
              "  </tbody>\n",
              "</table>\n",
              "</div>\n",
              "      <button class=\"colab-df-convert\" onclick=\"convertToInteractive('df-c3b6d05e-a698-4848-a346-59d096474440')\"\n",
              "              title=\"Convert this dataframe to an interactive table.\"\n",
              "              style=\"display:none;\">\n",
              "        \n",
              "  <svg xmlns=\"http://www.w3.org/2000/svg\" height=\"24px\"viewBox=\"0 0 24 24\"\n",
              "       width=\"24px\">\n",
              "    <path d=\"M0 0h24v24H0V0z\" fill=\"none\"/>\n",
              "    <path d=\"M18.56 5.44l.94 2.06.94-2.06 2.06-.94-2.06-.94-.94-2.06-.94 2.06-2.06.94zm-11 1L8.5 8.5l.94-2.06 2.06-.94-2.06-.94L8.5 2.5l-.94 2.06-2.06.94zm10 10l.94 2.06.94-2.06 2.06-.94-2.06-.94-.94-2.06-.94 2.06-2.06.94z\"/><path d=\"M17.41 7.96l-1.37-1.37c-.4-.4-.92-.59-1.43-.59-.52 0-1.04.2-1.43.59L10.3 9.45l-7.72 7.72c-.78.78-.78 2.05 0 2.83L4 21.41c.39.39.9.59 1.41.59.51 0 1.02-.2 1.41-.59l7.78-7.78 2.81-2.81c.8-.78.8-2.07 0-2.86zM5.41 20L4 18.59l7.72-7.72 1.47 1.35L5.41 20z\"/>\n",
              "  </svg>\n",
              "      </button>\n",
              "      \n",
              "  <style>\n",
              "    .colab-df-container {\n",
              "      display:flex;\n",
              "      flex-wrap:wrap;\n",
              "      gap: 12px;\n",
              "    }\n",
              "\n",
              "    .colab-df-convert {\n",
              "      background-color: #E8F0FE;\n",
              "      border: none;\n",
              "      border-radius: 50%;\n",
              "      cursor: pointer;\n",
              "      display: none;\n",
              "      fill: #1967D2;\n",
              "      height: 32px;\n",
              "      padding: 0 0 0 0;\n",
              "      width: 32px;\n",
              "    }\n",
              "\n",
              "    .colab-df-convert:hover {\n",
              "      background-color: #E2EBFA;\n",
              "      box-shadow: 0px 1px 2px rgba(60, 64, 67, 0.3), 0px 1px 3px 1px rgba(60, 64, 67, 0.15);\n",
              "      fill: #174EA6;\n",
              "    }\n",
              "\n",
              "    [theme=dark] .colab-df-convert {\n",
              "      background-color: #3B4455;\n",
              "      fill: #D2E3FC;\n",
              "    }\n",
              "\n",
              "    [theme=dark] .colab-df-convert:hover {\n",
              "      background-color: #434B5C;\n",
              "      box-shadow: 0px 1px 3px 1px rgba(0, 0, 0, 0.15);\n",
              "      filter: drop-shadow(0px 1px 2px rgba(0, 0, 0, 0.3));\n",
              "      fill: #FFFFFF;\n",
              "    }\n",
              "  </style>\n",
              "\n",
              "      <script>\n",
              "        const buttonEl =\n",
              "          document.querySelector('#df-c3b6d05e-a698-4848-a346-59d096474440 button.colab-df-convert');\n",
              "        buttonEl.style.display =\n",
              "          google.colab.kernel.accessAllowed ? 'block' : 'none';\n",
              "\n",
              "        async function convertToInteractive(key) {\n",
              "          const element = document.querySelector('#df-c3b6d05e-a698-4848-a346-59d096474440');\n",
              "          const dataTable =\n",
              "            await google.colab.kernel.invokeFunction('convertToInteractive',\n",
              "                                                     [key], {});\n",
              "          if (!dataTable) return;\n",
              "\n",
              "          const docLinkHtml = 'Like what you see? Visit the ' +\n",
              "            '<a target=\"_blank\" href=https://colab.research.google.com/notebooks/data_table.ipynb>data table notebook</a>'\n",
              "            + ' to learn more about interactive tables.';\n",
              "          element.innerHTML = '';\n",
              "          dataTable['output_type'] = 'display_data';\n",
              "          await google.colab.output.renderOutput(dataTable, element);\n",
              "          const docLink = document.createElement('div');\n",
              "          docLink.innerHTML = docLinkHtml;\n",
              "          element.appendChild(docLink);\n",
              "        }\n",
              "      </script>\n",
              "    </div>\n",
              "  </div>\n",
              "  "
            ],
            "text/plain": [
              "       tau1      tau2      tau3      tau4        p1        p2        p3  \\\n",
              "0  0.593951 -0.412733  1.503924  1.116943  0.403423 -1.492971 -0.785033   \n",
              "1  0.202190  0.374416 -0.188800 -0.522268 -0.225967 -1.058483  0.420047   \n",
              "2 -1.079044 -0.313745 -0.884634  0.017080 -0.943122  0.112653  0.801335   \n",
              "3 -0.083120 -1.107327  0.372805 -1.708152  0.753990 -1.637972  0.403805   \n",
              "4  0.873921  1.438466  0.086662  1.715037 -0.153880 -0.007015 -0.197053   \n",
              "\n",
              "         p4        g1        g2        g3        g4  \n",
              "0  1.566781 -0.901007  1.167203 -1.507330  1.084726  \n",
              "1  1.028627 -1.625721 -0.395660  1.414651  1.226011  \n",
              "2  0.733004  1.457108 -1.438495  0.651821 -1.682168  \n",
              "3 -0.088036  0.083322 -1.672322 -0.357714  1.055865  \n",
              "4  0.472315  0.136549 -1.469731  0.956396 -0.819727  "
            ]
          },
          "metadata": {},
          "execution_count": 112
        }
      ]
    },
    {
      "cell_type": "markdown",
      "source": [
        "##Question 14\n",
        "### What is the accuracy on the test set using the random forest classifier? In 4 decimal places."
      ],
      "metadata": {
        "id": "kWImEJStrq3z"
      }
    },
    {
      "cell_type": "code",
      "source": [
        "# As given instruction first we using Random Forest Classifier\n",
        "\n",
        "Random_Forest = RandomForestClassifier(random_state=1)\n",
        "Random_Forest.fit(transformed_X_train,y_train)"
      ],
      "metadata": {
        "colab": {
          "base_uri": "https://localhost:8080/"
        },
        "id": "aEopBFkDD5UV",
        "outputId": "4bb4bb09-8fa4-4764-9a74-16a714b5f745"
      },
      "execution_count": 113,
      "outputs": [
        {
          "output_type": "execute_result",
          "data": {
            "text/plain": [
              "RandomForestClassifier(random_state=1)"
            ]
          },
          "metadata": {},
          "execution_count": 113
        }
      ]
    },
    {
      "cell_type": "code",
      "source": [
        "RF_predict = Random_Forest.predict(transformed_X_test)\n",
        "print(\"Accuracy on the test set using the Random Forest Classifier is {}\".format(round(accuracy_score(y_test, RF_predict), 4)))"
      ],
      "metadata": {
        "colab": {
          "base_uri": "https://localhost:8080/"
        },
        "id": "dr_eKxUzyw0f",
        "outputId": "ecd9b6ea-f707-48ed-bc95-144b20dabd94"
      },
      "execution_count": 114,
      "outputs": [
        {
          "output_type": "stream",
          "name": "stdout",
          "text": [
            "Accuracy on the test set using the Random Forest Classifier is 0.929\n"
          ]
        }
      ]
    },
    {
      "cell_type": "code",
      "source": [
        "print('Confusion Matrix (Random Forest Classifier):\\n\\n',confusion_matrix(y_test, RF_predict))\n",
        "print('\\n\\nClassification Report:\\n\\n',classification_report(y_test, RF_predict))\n"
      ],
      "metadata": {
        "colab": {
          "base_uri": "https://localhost:8080/"
        },
        "id": "Ul9f8sq08JL0",
        "outputId": "489c88ab-505b-454f-824f-6dd4f485a893"
      },
      "execution_count": 115,
      "outputs": [
        {
          "output_type": "stream",
          "name": "stdout",
          "text": [
            "Confusion Matrix (Random Forest Classifier):\n",
            "\n",
            " [[ 625   87]\n",
            " [  55 1233]]\n",
            "\n",
            "\n",
            "Classification Report:\n",
            "\n",
            "               precision    recall  f1-score   support\n",
            "\n",
            "      stable       0.92      0.88      0.90       712\n",
            "    unstable       0.93      0.96      0.95      1288\n",
            "\n",
            "    accuracy                           0.93      2000\n",
            "   macro avg       0.93      0.92      0.92      2000\n",
            "weighted avg       0.93      0.93      0.93      2000\n",
            "\n"
          ]
        }
      ]
    },
    {
      "cell_type": "code",
      "source": [
        "# Extra Tree Classifier\n",
        "Tree_Class = ExtraTreesClassifier (random_state = 1)  \n",
        "Tree_Class.fit(transformed_X_train,y_train)\n",
        "ET_predict = Tree_Class.predict(transformed_X_test)\n",
        "print(\"\\nAccuracy score {}\".format(accuracy_score(y_test, ET_predict)))"
      ],
      "metadata": {
        "colab": {
          "base_uri": "https://localhost:8080/"
        },
        "id": "Do6XhLrkzyXU",
        "outputId": "07716c14-e27b-4082-cfaf-1f51cb6a7749"
      },
      "execution_count": 116,
      "outputs": [
        {
          "output_type": "stream",
          "name": "stdout",
          "text": [
            "\n",
            "Accuracy score 0.928\n"
          ]
        }
      ]
    },
    {
      "cell_type": "code",
      "source": [
        "print('Confusion Matrix (Extra Tree Classifier):\\n\\n',confusion_matrix(y_test, ET_predict))\n",
        "print('\\n\\nClassification Report:\\n\\n',classification_report(y_test, ET_predict))\n",
        "   # We can see here that the accuracy of the previous (New Optimal Model) is Lower than that without Hyperparameter Tuning\n"
      ],
      "metadata": {
        "colab": {
          "base_uri": "https://localhost:8080/"
        },
        "id": "wx4pHrqND5nm",
        "outputId": "70b738ff-1406-482b-ed2b-4c676cd24b7c"
      },
      "execution_count": 117,
      "outputs": [
        {
          "output_type": "stream",
          "name": "stdout",
          "text": [
            "Confusion Matrix (Extra Tree Classifier):\n",
            "\n",
            " [[ 606  106]\n",
            " [  38 1250]]\n",
            "\n",
            "\n",
            "Classification Report:\n",
            "\n",
            "               precision    recall  f1-score   support\n",
            "\n",
            "      stable       0.94      0.85      0.89       712\n",
            "    unstable       0.92      0.97      0.95      1288\n",
            "\n",
            "    accuracy                           0.93      2000\n",
            "   macro avg       0.93      0.91      0.92      2000\n",
            "weighted avg       0.93      0.93      0.93      2000\n",
            "\n"
          ]
        }
      ]
    },
    {
      "cell_type": "markdown",
      "source": [
        "##Question 12\n",
        "###Using the ExtraTreesClassifier as your estimator with cv=5, n_iter=10, scoring = 'accuracy', n_jobs = -1, verbose = 1 and random_state = 1. What are the best hyperparameters from the randomized search CV?\n",
        "\n",
        "\n",
        " \n",
        "\n",
        "1.   N_estimators = 1000 , min_samples_split = 2 , min_samples_leaf = 8,max_features = None\n",
        "2.   N_estimators = 500 , min_samples_split = 2 , min_samples_leaf = 8, max_features = ‘log2‘\n",
        "3. N_estimators = 300 , min_samples_split = 5 , min_samples_leaf = 6, max_features = ‘auto’\n",
        "4. N_estimators = 100 , min_samples_split = 7 , min_samples_leaf = 4, max_features = None"
      ],
      "metadata": {
        "id": "N48DR6ZopKiz"
      }
    },
    {
      "cell_type": "code",
      "source": [
        "n_estimators = [100, 300, 500, 1000]    \n",
        "min_samples_split = [7, 5, 2, 2]\n",
        "min_samples_leaf = [4, 6, 8, 8]\n",
        "max_features = [None,'auto','log2',None] \n",
        "hyperparameter_grid = {'n_estimators': n_estimators,  'min_samples_split': min_samples_split, 'min_samples_leaf': min_samples_leaf,'max_features': max_features}"
      ],
      "metadata": {
        "id": "PyobzhAsD5e7"
      },
      "execution_count": 118,
      "outputs": []
    },
    {
      "cell_type": "code",
      "source": [
        "# Randomized Search CV\n",
        "\n",
        "Rand_search = RandomizedSearchCV(estimator = Tree_Class, param_distributions= hyperparameter_grid, random_state=1,cv = 5, n_iter=10,scoring='accuracy',n_jobs=-1, verbose=1)\n",
        "search = Rand_search.fit(transformed_X_train,y_train)    "
      ],
      "metadata": {
        "colab": {
          "base_uri": "https://localhost:8080/"
        },
        "id": "UxAkBR5Sz1X5",
        "outputId": "ffcdaef5-d762-4696-fa8b-076462b73200"
      },
      "execution_count": 119,
      "outputs": [
        {
          "output_type": "stream",
          "name": "stdout",
          "text": [
            "Fitting 5 folds for each of 10 candidates, totalling 50 fits\n"
          ]
        }
      ]
    },
    {
      "cell_type": "code",
      "source": [
        "#checking for the best parameter for the model\n",
        "search.best_params_"
      ],
      "metadata": {
        "colab": {
          "base_uri": "https://localhost:8080/"
        },
        "id": "YYS1Tre2z1Lj",
        "outputId": "07baf3a8-4817-4b9b-f540-7f86735d7979"
      },
      "execution_count": 120,
      "outputs": [
        {
          "output_type": "execute_result",
          "data": {
            "text/plain": [
              "{'max_features': None,\n",
              " 'min_samples_leaf': 6,\n",
              " 'min_samples_split': 2,\n",
              " 'n_estimators': 1000}"
            ]
          },
          "metadata": {},
          "execution_count": 120
        }
      ]
    },
    {
      "cell_type": "markdown",
      "source": [
        "##Question 13\n",
        "###Find the feature importance using the optimal ExtraTreesClassifier model. Which features are the most and least important respectively?"
      ],
      "metadata": {
        "id": "8D2wAxYGrSzy"
      }
    },
    {
      "cell_type": "code",
      "source": [
        "feature_imp = search.best_estimator_.feature_importances_\n",
        "print('Most important features:',max(zip(feature_imp,X)))\n",
        "print('Least important features:',min(zip(feature_imp,X)))"
      ],
      "metadata": {
        "colab": {
          "base_uri": "https://localhost:8080/"
        },
        "id": "M5pvEumeD5qW",
        "outputId": "72917f9c-1fec-440d-98b6-4220d74f1735"
      },
      "execution_count": 121,
      "outputs": [
        {
          "output_type": "stream",
          "name": "stdout",
          "text": [
            "Most important features: (0.13842145507674694, 'tau2')\n",
            "Least important features: (0.005354328485013283, 'p1')\n"
          ]
        }
      ]
    },
    {
      "cell_type": "markdown",
      "source": [
        "## Question 7\n",
        "###Train a new ExtraTreesClassifier Model with the new Hyperparameters from the RandomizedSearchCV (with random_state = 1). Is the accuracy of the new optimal model higher or lower than the initial ExtraTreesClassifier model with no hyperparameter tuning?\n",
        "\n",
        "\n",
        "####Answer: Lower than the initial ExtraTreesClassifier model with no hyperparameter tuning \n",
        "\n",
        "*Accuracy of ExtraTreesClassifier model with no hyperparameter tuning : 0.928*\n",
        "\n",
        "\n",
        "\n",
        "*Accuracy of ExtraTreesClassifier model with hyperparameter tuning : 0.927*"
      ],
      "metadata": {
        "id": "uD39TUP5sWLr"
      }
    },
    {
      "cell_type": "code",
      "source": [
        "#experimenting with this generated parameter to test the model's performance\n",
        "ET_hyperparameter = ExtraTreesClassifier(n_estimators=1000, min_samples_split=2, min_samples_leaf=8, max_features=None, random_state = 1)\n",
        "ET_hyperparameter.fit(transformed_X_train, y_train)\n",
        "ET_hyperparameter = ET_hyperparameter.predict(transformed_X_test)\n",
        "print(\"Accuracy is:\",accuracy_score(y_test, ET_hyperparameter))"
      ],
      "metadata": {
        "colab": {
          "base_uri": "https://localhost:8080/"
        },
        "id": "MHMTkCPvD5kN",
        "outputId": "c3e3d50a-0789-42ce-ff2e-8d15a3266016"
      },
      "execution_count": 122,
      "outputs": [
        {
          "output_type": "stream",
          "name": "stdout",
          "text": [
            "Accuracy is: 0.927\n"
          ]
        }
      ]
    },
    {
      "cell_type": "code",
      "source": [
        "print('Confusion Matrix (Extra Tree Classifier with Hyperparameter):\\n\\n',confusion_matrix(y_test, ET_hyperparameter))\n",
        "print('\\n\\nClassification Report:\\n\\n',classification_report(y_test, ET_hyperparameter))"
      ],
      "metadata": {
        "colab": {
          "base_uri": "https://localhost:8080/"
        },
        "id": "ZN1ut7J1AEPE",
        "outputId": "a3fb4f57-38d3-47ba-f66f-ae42f81c70dd"
      },
      "execution_count": 123,
      "outputs": [
        {
          "output_type": "stream",
          "name": "stdout",
          "text": [
            "Confusion Matrix (Extra Tree Classifier with Hyperparameter):\n",
            "\n",
            " [[ 619   93]\n",
            " [  53 1235]]\n",
            "\n",
            "\n",
            "Classification Report:\n",
            "\n",
            "               precision    recall  f1-score   support\n",
            "\n",
            "      stable       0.92      0.87      0.89       712\n",
            "    unstable       0.93      0.96      0.94      1288\n",
            "\n",
            "    accuracy                           0.93      2000\n",
            "   macro avg       0.93      0.91      0.92      2000\n",
            "weighted avg       0.93      0.93      0.93      2000\n",
            "\n"
          ]
        }
      ]
    },
    {
      "cell_type": "markdown",
      "source": [
        "##Question 12\n",
        "###What is the accuracy on the test set using the XGboost classifier? In 4 decimal places."
      ],
      "metadata": {
        "id": "pCcCiEfoqqvb"
      }
    },
    {
      "cell_type": "code",
      "source": [
        "xg_boost = XGBClassifier(random_state =1)\n",
        "xg_boost.fit(transformed_X_train, y_train)\n",
        "xg_predict = xg_boost.predict(transformed_X_test)\n",
        "print('The accuracy on the test set using the XGboost classifier is:',round(accuracy_score(y_test,xg_predict),4) )"
      ],
      "metadata": {
        "colab": {
          "base_uri": "https://localhost:8080/"
        },
        "id": "dsrPZfvKD5XK",
        "outputId": "965af3ab-07ad-4066-8fd1-3e8ff0696e4f"
      },
      "execution_count": 124,
      "outputs": [
        {
          "output_type": "stream",
          "name": "stdout",
          "text": [
            "The accuracy on the test set using the XGboost classifier is: 0.9195\n"
          ]
        }
      ]
    },
    {
      "cell_type": "code",
      "source": [
        "print('Confusion Matrix (XGboost Classifier):\\n\\n',confusion_matrix(y_test, xg_predict))\n",
        "print('\\n\\nClassification Report:\\n\\n',classification_report(y_test, xg_predict))"
      ],
      "metadata": {
        "colab": {
          "base_uri": "https://localhost:8080/"
        },
        "id": "DOcP9N8Y-3lX",
        "outputId": "f483fd51-5b69-4bc3-a311-abe03fd72e50"
      },
      "execution_count": 125,
      "outputs": [
        {
          "output_type": "stream",
          "name": "stdout",
          "text": [
            "Confusion Matrix (XGboost Classifier):\n",
            "\n",
            " [[ 603  109]\n",
            " [  52 1236]]\n",
            "\n",
            "\n",
            "Classification Report:\n",
            "\n",
            "               precision    recall  f1-score   support\n",
            "\n",
            "      stable       0.92      0.85      0.88       712\n",
            "    unstable       0.92      0.96      0.94      1288\n",
            "\n",
            "    accuracy                           0.92      2000\n",
            "   macro avg       0.92      0.90      0.91      2000\n",
            "weighted avg       0.92      0.92      0.92      2000\n",
            "\n"
          ]
        }
      ]
    },
    {
      "cell_type": "markdown",
      "source": [
        "##Question 3\n",
        "###What is the accuracy on the test set using the LGBM classifier? In 4 decimal places."
      ],
      "metadata": {
        "id": "kUBTDNXBi-G9"
      }
    },
    {
      "cell_type": "code",
      "source": [
        "lgbm = lgbm.LGBMClassifier(random_state=1)\n",
        "lgbm.fit(transformed_X_train,y_train)\n",
        "lgbm_predict  = lgbm.predict(transformed_X_test)\n",
        "print('The accuracy on the test set using the LGBM classifier is:',round(accuracy_score(y_test, lgbm_predict),4))"
      ],
      "metadata": {
        "colab": {
          "base_uri": "https://localhost:8080/"
        },
        "id": "l3h0IlvTD5cS",
        "outputId": "e07a5a3f-4e7d-4aa5-de14-c85dd5abe576"
      },
      "execution_count": 126,
      "outputs": [
        {
          "output_type": "stream",
          "name": "stdout",
          "text": [
            "The accuracy on the test set using the LGBM classifier is: 0.9375\n"
          ]
        }
      ]
    },
    {
      "cell_type": "code",
      "source": [
        "print('Confusion Matrix (LGBM Classifier):\\n\\n',confusion_matrix(y_test, lgbm_predict))\n",
        "print('\\n\\nClassification Report:\\n\\n',classification_report(y_test, lgbm_predict))"
      ],
      "metadata": {
        "colab": {
          "base_uri": "https://localhost:8080/"
        },
        "id": "bjNQ3TU3_G_s",
        "outputId": "d36f4e62-d1d2-4d2f-cbab-49473d418385"
      },
      "execution_count": 127,
      "outputs": [
        {
          "output_type": "stream",
          "name": "stdout",
          "text": [
            "Confusion Matrix (LGBM Classifier):\n",
            "\n",
            " [[ 635   77]\n",
            " [  48 1240]]\n",
            "\n",
            "\n",
            "Classification Report:\n",
            "\n",
            "               precision    recall  f1-score   support\n",
            "\n",
            "      stable       0.93      0.89      0.91       712\n",
            "    unstable       0.94      0.96      0.95      1288\n",
            "\n",
            "    accuracy                           0.94      2000\n",
            "   macro avg       0.94      0.93      0.93      2000\n",
            "weighted avg       0.94      0.94      0.94      2000\n",
            "\n"
          ]
        }
      ]
    },
    {
      "cell_type": "markdown",
      "source": [
        "##Question 8\n",
        "###You are working on a spam classification system using regularized logistic regression. “Spam” is a positive class (y = 1) and “not spam” is the negative class (y = 0). You have trained your classifier and there are n = 1700 examples in the test set. The confusion matrix of predicted class vs. actual class is:\n",
        "\n",
        "![image.png](data:image/png;base64,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)\n",
        "\n",
        "\n",
        "What is the F1 score of this classifier?"
      ],
      "metadata": {
        "id": "QUZo3r6onSot"
      }
    },
    {
      "cell_type": "code",
      "source": [
        "Precision = (255/ (255+1380)) \n",
        "Recall =  (255 /(255+45)) \n",
        "F1_Score = 2 * (Precision*Recall)/(Precision + Recall)\n",
        "print(round(F1_Score,4))"
      ],
      "metadata": {
        "colab": {
          "base_uri": "https://localhost:8080/"
        },
        "id": "jq2sP-k0D5O3",
        "outputId": "2100bbe9-2cf5-4d17-9cd6-339d4ad7ed82"
      },
      "execution_count": 128,
      "outputs": [
        {
          "output_type": "stream",
          "name": "stdout",
          "text": [
            "0.2636\n"
          ]
        }
      ]
    },
    {
      "cell_type": "code",
      "source": [
        ""
      ],
      "metadata": {
        "id": "e9jrrxgPMnEo"
      },
      "execution_count": 128,
      "outputs": []
    }
  ]
}